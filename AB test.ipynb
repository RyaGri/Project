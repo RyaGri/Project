{
 "cells": [
  {
   "cell_type": "markdown",
   "id": "40e81442-ab65-4fcf-a003-1ab8a1302284",
   "metadata": {
    "tags": []
   },
   "source": [
    "## A/B эксперимент по рекомендации постов пользователям.\n",
    "#### Научил сервис разбивать пользователей на группы и для каждой из групп использовать одну из двух реализованных моделей (послабее модель control и более сильную test) для проведения A/B эксперимента. \n",
    "#### Эксперимент проводился на пользователях в течение 2 недель. В результаты мы получили сырые данные об эксперименте, которые обработали, и сделали вывод об эффективности модели test. "
   ]
  },
  {
   "cell_type": "code",
   "execution_count": 267,
   "id": "2bd38bfc-601a-4d24-be21-5385c37e7672",
   "metadata": {},
   "outputs": [],
   "source": [
    "import pandas as pd\n",
    "import numpy as np\n",
    "import seaborn as sns\n",
    "import matplotlib.pyplot as plt\n",
    "from statsmodels.stats.proportion import proportion_confint\n",
    "from scipy.stats import binomtest\n",
    "from scipy.stats import mannwhitneyu, ttest_ind\n",
    "import hashlib"
   ]
  },
  {
   "cell_type": "code",
   "execution_count": 2,
   "id": "7b3d8183-2668-4d6e-93b0-349a741614b3",
   "metadata": {},
   "outputs": [],
   "source": [
    "# Загружаем даныне\n",
    "likes = pd.read_csv('likes.csv') # Данные о лайках\n",
    "views = pd.read_csv('views.csv') # Ответы нашего сервиса с рекомендациями. \n"
   ]
  },
  {
   "cell_type": "code",
   "execution_count": 3,
   "id": "75ac7f7a-874f-4f33-9ff7-635e7186d48e",
   "metadata": {},
   "outputs": [],
   "source": [
    "views['date'] = pd.to_datetime(views.timestamp, unit='s')\n",
    "likes['date'] = pd.to_datetime(likes.timestamp, unit='s')"
   ]
  },
  {
   "cell_type": "code",
   "execution_count": 4,
   "id": "d39bf044-4224-4c41-8a32-81ce260113fa",
   "metadata": {},
   "outputs": [
    {
     "data": {
      "text/html": [
       "<div>\n",
       "<style scoped>\n",
       "    .dataframe tbody tr th:only-of-type {\n",
       "        vertical-align: middle;\n",
       "    }\n",
       "\n",
       "    .dataframe tbody tr th {\n",
       "        vertical-align: top;\n",
       "    }\n",
       "\n",
       "    .dataframe thead th {\n",
       "        text-align: right;\n",
       "    }\n",
       "</style>\n",
       "<table border=\"1\" class=\"dataframe\">\n",
       "  <thead>\n",
       "    <tr style=\"text-align: right;\">\n",
       "      <th></th>\n",
       "      <th>user_id</th>\n",
       "      <th>exp_group</th>\n",
       "      <th>recommendations</th>\n",
       "      <th>timestamp</th>\n",
       "      <th>date</th>\n",
       "    </tr>\n",
       "  </thead>\n",
       "  <tbody>\n",
       "    <tr>\n",
       "      <th>0</th>\n",
       "      <td>128381</td>\n",
       "      <td>control</td>\n",
       "      <td>[3644 4529 4704 5294 4808]</td>\n",
       "      <td>1654030803</td>\n",
       "      <td>2022-05-31 21:00:03</td>\n",
       "    </tr>\n",
       "    <tr>\n",
       "      <th>1</th>\n",
       "      <td>146885</td>\n",
       "      <td>test</td>\n",
       "      <td>[1399 1076  797 7015 5942]</td>\n",
       "      <td>1654030811</td>\n",
       "      <td>2022-05-31 21:00:11</td>\n",
       "    </tr>\n",
       "    <tr>\n",
       "      <th>2</th>\n",
       "      <td>50948</td>\n",
       "      <td>test</td>\n",
       "      <td>[2315 3037 1861 6567 4093]</td>\n",
       "      <td>1654030825</td>\n",
       "      <td>2022-05-31 21:00:25</td>\n",
       "    </tr>\n",
       "  </tbody>\n",
       "</table>\n",
       "</div>"
      ],
      "text/plain": [
       "   user_id exp_group             recommendations   timestamp  \\\n",
       "0   128381   control  [3644 4529 4704 5294 4808]  1654030803   \n",
       "1   146885      test  [1399 1076  797 7015 5942]  1654030811   \n",
       "2    50948      test  [2315 3037 1861 6567 4093]  1654030825   \n",
       "\n",
       "                 date  \n",
       "0 2022-05-31 21:00:03  \n",
       "1 2022-05-31 21:00:11  \n",
       "2 2022-05-31 21:00:25  "
      ]
     },
     "execution_count": 4,
     "metadata": {},
     "output_type": "execute_result"
    }
   ],
   "source": [
    "views.head(3)"
   ]
  },
  {
   "cell_type": "code",
   "execution_count": 5,
   "id": "d0aa2bcc-b7e7-4696-aa52-c5dabf850dbf",
   "metadata": {},
   "outputs": [
    {
     "data": {
      "text/html": [
       "<div>\n",
       "<style scoped>\n",
       "    .dataframe tbody tr th:only-of-type {\n",
       "        vertical-align: middle;\n",
       "    }\n",
       "\n",
       "    .dataframe tbody tr th {\n",
       "        vertical-align: top;\n",
       "    }\n",
       "\n",
       "    .dataframe thead th {\n",
       "        text-align: right;\n",
       "    }\n",
       "</style>\n",
       "<table border=\"1\" class=\"dataframe\">\n",
       "  <thead>\n",
       "    <tr style=\"text-align: right;\">\n",
       "      <th></th>\n",
       "      <th>user_id</th>\n",
       "      <th>post_id</th>\n",
       "      <th>timestamp</th>\n",
       "      <th>date</th>\n",
       "    </tr>\n",
       "  </thead>\n",
       "  <tbody>\n",
       "    <tr>\n",
       "      <th>0</th>\n",
       "      <td>128381</td>\n",
       "      <td>4704</td>\n",
       "      <td>1654030804</td>\n",
       "      <td>2022-05-31 21:00:04</td>\n",
       "    </tr>\n",
       "    <tr>\n",
       "      <th>1</th>\n",
       "      <td>146885</td>\n",
       "      <td>1399</td>\n",
       "      <td>1654030816</td>\n",
       "      <td>2022-05-31 21:00:16</td>\n",
       "    </tr>\n",
       "    <tr>\n",
       "      <th>2</th>\n",
       "      <td>50948</td>\n",
       "      <td>2315</td>\n",
       "      <td>1654030828</td>\n",
       "      <td>2022-05-31 21:00:28</td>\n",
       "    </tr>\n",
       "  </tbody>\n",
       "</table>\n",
       "</div>"
      ],
      "text/plain": [
       "   user_id  post_id   timestamp                date\n",
       "0   128381     4704  1654030804 2022-05-31 21:00:04\n",
       "1   146885     1399  1654030816 2022-05-31 21:00:16\n",
       "2    50948     2315  1654030828 2022-05-31 21:00:28"
      ]
     },
     "execution_count": 5,
     "metadata": {},
     "output_type": "execute_result"
    }
   ],
   "source": [
    "likes.head(3)"
   ]
  },
  {
   "cell_type": "markdown",
   "id": "b1c7150f-3e3d-4808-89c8-b852f3e29cb3",
   "metadata": {},
   "source": [
    "#### Проверяем , нет ли у нас пользователей, которые попали в обе группы."
   ]
  },
  {
   "cell_type": "code",
   "execution_count": 6,
   "id": "8f14950d-0713-434c-91d3-51478a2b06f9",
   "metadata": {},
   "outputs": [],
   "source": [
    "test_group_ids = views[views['exp_group'] == 'test']['user_id'].tolist()\n",
    "control_group_ids = views[views['exp_group'] == 'control']['user_id'].tolist()"
   ]
  },
  {
   "cell_type": "code",
   "execution_count": 7,
   "id": "8de82315-b811-4b41-9790-791bc57acee1",
   "metadata": {},
   "outputs": [],
   "source": [
    "test_group_ids  = set(test_group_ids)\n",
    "control_group_ids = set(control_group_ids)"
   ]
  },
  {
   "cell_type": "markdown",
   "id": "4bbce4db-9304-4d04-bd83-9692672fbc72",
   "metadata": {},
   "source": [
    "Пользователи которые по ошибки попали в группу test и control одновременно"
   ]
  },
  {
   "cell_type": "code",
   "execution_count": 8,
   "id": "f574e11a-a3e3-456d-af2d-4301b0b33df4",
   "metadata": {},
   "outputs": [
    {
     "data": {
      "text/plain": [
       "{25623, 55788, 142283, 148670}"
      ]
     },
     "execution_count": 8,
     "metadata": {},
     "output_type": "execute_result"
    }
   ],
   "source": [
    "test_group_ids.intersection(control_group_ids)"
   ]
  },
  {
   "cell_type": "markdown",
   "id": "f2c6551a-5096-45f9-a3fe-6d09d646adf8",
   "metadata": {},
   "source": [
    "Удалим из наших таблиц таких пользователей. "
   ]
  },
  {
   "cell_type": "code",
   "execution_count": 9,
   "id": "0b831b67-f037-44c3-929f-c00b30fd9252",
   "metadata": {},
   "outputs": [],
   "source": [
    "views = views[~views.user_id.isin(test_group_ids.intersection(control_group_ids))]\n",
    "likes = likes[~likes.user_id.isin(test_group_ids.intersection(control_group_ids))]"
   ]
  },
  {
   "cell_type": "markdown",
   "id": "b17a1644-ba99-4b21-9b17-7cc413d066c2",
   "metadata": {},
   "source": [
    "Проверяем, что группы получаются одинакового размера по пользователям"
   ]
  },
  {
   "cell_type": "code",
   "execution_count": 10,
   "id": "6e76f320-92d4-45a0-b0bd-2f9d19241494",
   "metadata": {},
   "outputs": [
    {
     "data": {
      "text/plain": [
       "test       96898\n",
       "control    96370\n",
       "Name: exp_group, dtype: int64"
      ]
     },
     "execution_count": 10,
     "metadata": {},
     "output_type": "execute_result"
    }
   ],
   "source": [
    "views['exp_group'].value_counts()"
   ]
  },
  {
   "cell_type": "code",
   "execution_count": 11,
   "id": "64052eee-fbe7-4a1b-955a-0b7ab740d4ec",
   "metadata": {},
   "outputs": [
    {
     "data": {
      "text/plain": [
       "test       32659\n",
       "control    32350\n",
       "Name: exp_group, dtype: int64"
      ]
     },
     "execution_count": 11,
     "metadata": {},
     "output_type": "execute_result"
    }
   ],
   "source": [
    "views.groupby('user_id').first().exp_group.value_counts()"
   ]
  },
  {
   "cell_type": "markdown",
   "id": "595fbce7-c987-43ce-80f1-de385ce2207b",
   "metadata": {},
   "source": [
    "Есть немного пользователей сразу в 2 группах, группы почти равного размера. Применим критерий для долей (биномиальный тест), чтобы проверить соответствие этой доли ожидаемым 0.5."
   ]
  },
  {
   "cell_type": "code",
   "execution_count": 12,
   "id": "f0976c73-a3a7-4602-bddb-be24e687572b",
   "metadata": {},
   "outputs": [
    {
     "name": "stdout",
     "output_type": "stream",
     "text": [
      "95-процентный доверительный интервал доли группы (0.49853309789386646, 0.5062200901262539)\n"
     ]
    },
    {
     "data": {
      "text/plain": [
       "BinomTestResult(k=32659, n=65009, alternative='two-sided', proportion_estimate=0.5023765940100602, pvalue=0.2270501563614752)"
      ]
     },
     "execution_count": 12,
     "metadata": {},
     "output_type": "execute_result"
    }
   ],
   "source": [
    "N_test  = views.groupby('user_id').first().exp_group.value_counts().test\n",
    "N = views.groupby('user_id').first().exp_group.count()\n",
    "print(f\"95-процентный доверительный интервал доли группы {proportion_confint(N_test, N, alpha=0.05, method='normal')}\")\n",
    "binomtest(k=N_test, n=N, p=0.5) "
   ]
  },
  {
   "cell_type": "markdown",
   "id": "a8883cd2-b00f-4e56-8c0e-fc36f5efface",
   "metadata": {
    "tags": []
   },
   "source": [
    "##### Таким образом,  P-value равно 0.2271. Это означает, что если нулевая гипотеза верна (доля равна 0.5), то вероятность получить такое или еще более экстремальное различие составляет примерно 0.2271, что не является статистически значимым на уровне значимости 0.05. На основании полученного p-value, нет достаточных доказательств, чтобы отвергнуть нулевую гипотезу о равенстве долей."
   ]
  },
  {
   "cell_type": "markdown",
   "id": "d68a8ffe-33af-4a9c-95fc-88df4570d2b1",
   "metadata": {},
   "source": [
    "#### Соберем таблицу, в которой будут пользователи, попавшие в наш эксперимент (то есть те, для которых мы строили хотя бы одну рекомендацию). Посчитаем, кто из них сколько лайков сделал."
   ]
  },
  {
   "cell_type": "code",
   "execution_count": 13,
   "id": "5190df0c-fe63-4a82-9ce4-5be129f53a2c",
   "metadata": {},
   "outputs": [
    {
     "data": {
      "text/html": [
       "<div>\n",
       "<style scoped>\n",
       "    .dataframe tbody tr th:only-of-type {\n",
       "        vertical-align: middle;\n",
       "    }\n",
       "\n",
       "    .dataframe tbody tr th {\n",
       "        vertical-align: top;\n",
       "    }\n",
       "\n",
       "    .dataframe thead th {\n",
       "        text-align: right;\n",
       "    }\n",
       "</style>\n",
       "<table border=\"1\" class=\"dataframe\">\n",
       "  <thead>\n",
       "    <tr style=\"text-align: right;\">\n",
       "      <th></th>\n",
       "      <th>user_id</th>\n",
       "      <th>sum_likes</th>\n",
       "    </tr>\n",
       "  </thead>\n",
       "  <tbody>\n",
       "    <tr>\n",
       "      <th>0</th>\n",
       "      <td>200</td>\n",
       "      <td>1</td>\n",
       "    </tr>\n",
       "    <tr>\n",
       "      <th>1</th>\n",
       "      <td>201</td>\n",
       "      <td>3</td>\n",
       "    </tr>\n",
       "    <tr>\n",
       "      <th>2</th>\n",
       "      <td>202</td>\n",
       "      <td>2</td>\n",
       "    </tr>\n",
       "    <tr>\n",
       "      <th>3</th>\n",
       "      <td>212</td>\n",
       "      <td>4</td>\n",
       "    </tr>\n",
       "    <tr>\n",
       "      <th>4</th>\n",
       "      <td>213</td>\n",
       "      <td>7</td>\n",
       "    </tr>\n",
       "    <tr>\n",
       "      <th>...</th>\n",
       "      <td>...</td>\n",
       "      <td>...</td>\n",
       "    </tr>\n",
       "    <tr>\n",
       "      <th>58162</th>\n",
       "      <td>168525</td>\n",
       "      <td>2</td>\n",
       "    </tr>\n",
       "    <tr>\n",
       "      <th>58163</th>\n",
       "      <td>168532</td>\n",
       "      <td>4</td>\n",
       "    </tr>\n",
       "    <tr>\n",
       "      <th>58164</th>\n",
       "      <td>168538</td>\n",
       "      <td>5</td>\n",
       "    </tr>\n",
       "    <tr>\n",
       "      <th>58165</th>\n",
       "      <td>168541</td>\n",
       "      <td>2</td>\n",
       "    </tr>\n",
       "    <tr>\n",
       "      <th>58166</th>\n",
       "      <td>168545</td>\n",
       "      <td>5</td>\n",
       "    </tr>\n",
       "  </tbody>\n",
       "</table>\n",
       "<p>58167 rows × 2 columns</p>\n",
       "</div>"
      ],
      "text/plain": [
       "       user_id  sum_likes\n",
       "0          200          1\n",
       "1          201          3\n",
       "2          202          2\n",
       "3          212          4\n",
       "4          213          7\n",
       "...        ...        ...\n",
       "58162   168525          2\n",
       "58163   168532          4\n",
       "58164   168538          5\n",
       "58165   168541          2\n",
       "58166   168545          5\n",
       "\n",
       "[58167 rows x 2 columns]"
      ]
     },
     "execution_count": 13,
     "metadata": {},
     "output_type": "execute_result"
    }
   ],
   "source": [
    "# Группируем по 'user_id' и считаем количество значений в колонке 'post_id'\n",
    "grouped_likes = likes.groupby('user_id').post_id.count()\n",
    "\n",
    "# Преобразуем Series в DataFrame,переименовав колонки\n",
    "users_likes = grouped_likes.reset_index().rename(columns={'post_id': 'sum_likes'})\n",
    "\n",
    "users_likes"
   ]
  },
  {
   "cell_type": "code",
   "execution_count": 14,
   "id": "0016ab21-0f66-43bf-bd3b-e8eb2c3aa353",
   "metadata": {},
   "outputs": [],
   "source": [
    "views_ = views.groupby('user_id').first()"
   ]
  },
  {
   "cell_type": "code",
   "execution_count": 15,
   "id": "df4f079e-ac9e-491c-a852-4782fbec5ff4",
   "metadata": {},
   "outputs": [],
   "source": [
    "df = pd.merge(views_, users_likes, on='user_id', how='left') #объединим таблицы left- join,  при котором останутся все пользователи с просмотрами (даже те, у кого нет лайков)"
   ]
  },
  {
   "cell_type": "code",
   "execution_count": 16,
   "id": "3437c73b-9cf0-4337-be29-1d5f4fc0f7fb",
   "metadata": {},
   "outputs": [
    {
     "data": {
      "text/html": [
       "<div>\n",
       "<style scoped>\n",
       "    .dataframe tbody tr th:only-of-type {\n",
       "        vertical-align: middle;\n",
       "    }\n",
       "\n",
       "    .dataframe tbody tr th {\n",
       "        vertical-align: top;\n",
       "    }\n",
       "\n",
       "    .dataframe thead th {\n",
       "        text-align: right;\n",
       "    }\n",
       "</style>\n",
       "<table border=\"1\" class=\"dataframe\">\n",
       "  <thead>\n",
       "    <tr style=\"text-align: right;\">\n",
       "      <th></th>\n",
       "      <th>user_id</th>\n",
       "      <th>exp_group</th>\n",
       "      <th>recommendations</th>\n",
       "      <th>timestamp</th>\n",
       "      <th>date</th>\n",
       "      <th>sum_likes</th>\n",
       "    </tr>\n",
       "  </thead>\n",
       "  <tbody>\n",
       "    <tr>\n",
       "      <th>8</th>\n",
       "      <td>227</td>\n",
       "      <td>test</td>\n",
       "      <td>[3006 4945  909 1255 6630]</td>\n",
       "      <td>1655080360</td>\n",
       "      <td>2022-06-13 00:32:40</td>\n",
       "      <td>NaN</td>\n",
       "    </tr>\n",
       "    <tr>\n",
       "      <th>18</th>\n",
       "      <td>251</td>\n",
       "      <td>test</td>\n",
       "      <td>[6284 6702 1611 2229 6288]</td>\n",
       "      <td>1654107877</td>\n",
       "      <td>2022-06-01 18:24:37</td>\n",
       "      <td>NaN</td>\n",
       "    </tr>\n",
       "    <tr>\n",
       "      <th>22</th>\n",
       "      <td>261</td>\n",
       "      <td>test</td>\n",
       "      <td>[1546 4161 1523 1220 1900]</td>\n",
       "      <td>1655215428</td>\n",
       "      <td>2022-06-14 14:03:48</td>\n",
       "      <td>NaN</td>\n",
       "    </tr>\n",
       "    <tr>\n",
       "      <th>27</th>\n",
       "      <td>279</td>\n",
       "      <td>test</td>\n",
       "      <td>[3881 2547  940 1774 2287]</td>\n",
       "      <td>1654093645</td>\n",
       "      <td>2022-06-01 14:27:25</td>\n",
       "      <td>NaN</td>\n",
       "    </tr>\n",
       "    <tr>\n",
       "      <th>37</th>\n",
       "      <td>299</td>\n",
       "      <td>test</td>\n",
       "      <td>[2678 3668 1394 6175 6706]</td>\n",
       "      <td>1654803833</td>\n",
       "      <td>2022-06-09 19:43:53</td>\n",
       "      <td>NaN</td>\n",
       "    </tr>\n",
       "    <tr>\n",
       "      <th>...</th>\n",
       "      <td>...</td>\n",
       "      <td>...</td>\n",
       "      <td>...</td>\n",
       "      <td>...</td>\n",
       "      <td>...</td>\n",
       "      <td>...</td>\n",
       "    </tr>\n",
       "    <tr>\n",
       "      <th>64985</th>\n",
       "      <td>168490</td>\n",
       "      <td>control</td>\n",
       "      <td>[1576 5277 4161  799  563]</td>\n",
       "      <td>1654199500</td>\n",
       "      <td>2022-06-02 19:51:40</td>\n",
       "      <td>NaN</td>\n",
       "    </tr>\n",
       "    <tr>\n",
       "      <th>64999</th>\n",
       "      <td>168519</td>\n",
       "      <td>control</td>\n",
       "      <td>[1983 7263 4304 4422 4009]</td>\n",
       "      <td>1654557156</td>\n",
       "      <td>2022-06-06 23:12:36</td>\n",
       "      <td>NaN</td>\n",
       "    </tr>\n",
       "    <tr>\n",
       "      <th>65002</th>\n",
       "      <td>168526</td>\n",
       "      <td>control</td>\n",
       "      <td>[5225 1536 6745  338  520]</td>\n",
       "      <td>1654193016</td>\n",
       "      <td>2022-06-02 18:03:36</td>\n",
       "      <td>NaN</td>\n",
       "    </tr>\n",
       "    <tr>\n",
       "      <th>65006</th>\n",
       "      <td>168544</td>\n",
       "      <td>test</td>\n",
       "      <td>[7096 6288 1482 2743 2575]</td>\n",
       "      <td>1654268018</td>\n",
       "      <td>2022-06-03 14:53:38</td>\n",
       "      <td>NaN</td>\n",
       "    </tr>\n",
       "    <tr>\n",
       "      <th>65008</th>\n",
       "      <td>168552</td>\n",
       "      <td>control</td>\n",
       "      <td>[  93 4558 4130 6918 3769]</td>\n",
       "      <td>1654516294</td>\n",
       "      <td>2022-06-06 11:51:34</td>\n",
       "      <td>NaN</td>\n",
       "    </tr>\n",
       "  </tbody>\n",
       "</table>\n",
       "<p>6842 rows × 6 columns</p>\n",
       "</div>"
      ],
      "text/plain": [
       "       user_id exp_group             recommendations   timestamp  \\\n",
       "8          227      test  [3006 4945  909 1255 6630]  1655080360   \n",
       "18         251      test  [6284 6702 1611 2229 6288]  1654107877   \n",
       "22         261      test  [1546 4161 1523 1220 1900]  1655215428   \n",
       "27         279      test  [3881 2547  940 1774 2287]  1654093645   \n",
       "37         299      test  [2678 3668 1394 6175 6706]  1654803833   \n",
       "...        ...       ...                         ...         ...   \n",
       "64985   168490   control  [1576 5277 4161  799  563]  1654199500   \n",
       "64999   168519   control  [1983 7263 4304 4422 4009]  1654557156   \n",
       "65002   168526   control  [5225 1536 6745  338  520]  1654193016   \n",
       "65006   168544      test  [7096 6288 1482 2743 2575]  1654268018   \n",
       "65008   168552   control  [  93 4558 4130 6918 3769]  1654516294   \n",
       "\n",
       "                     date  sum_likes  \n",
       "8     2022-06-13 00:32:40        NaN  \n",
       "18    2022-06-01 18:24:37        NaN  \n",
       "22    2022-06-14 14:03:48        NaN  \n",
       "27    2022-06-01 14:27:25        NaN  \n",
       "37    2022-06-09 19:43:53        NaN  \n",
       "...                   ...        ...  \n",
       "64985 2022-06-02 19:51:40        NaN  \n",
       "64999 2022-06-06 23:12:36        NaN  \n",
       "65002 2022-06-02 18:03:36        NaN  \n",
       "65006 2022-06-03 14:53:38        NaN  \n",
       "65008 2022-06-06 11:51:34        NaN  \n",
       "\n",
       "[6842 rows x 6 columns]"
      ]
     },
     "execution_count": 16,
     "metadata": {},
     "output_type": "execute_result"
    }
   ],
   "source": [
    "df[df['sum_likes'].isna()]"
   ]
  },
  {
   "cell_type": "markdown",
   "id": "4049be75-bac2-414f-844d-b9cd040d1d77",
   "metadata": {},
   "source": [
    "6842 юзеров не сделали ни одного лайка, заполним эти значения нулями"
   ]
  },
  {
   "cell_type": "code",
   "execution_count": 17,
   "id": "fa33f9a8-119a-489c-b6a4-b2708a6fee0c",
   "metadata": {},
   "outputs": [],
   "source": [
    "df['sum_likes'] = df['sum_likes'].fillna(0)"
   ]
  },
  {
   "cell_type": "markdown",
   "id": "b1d7d854-675b-4f81-b188-821ba57ba22e",
   "metadata": {},
   "source": [
    "Посчитаем пропорцию тех, у кого есть лайки, относительно всех пользователей"
   ]
  },
  {
   "cell_type": "code",
   "execution_count": 18,
   "id": "e8eaac37-f950-431f-b627-04d501157e07",
   "metadata": {},
   "outputs": [
    {
     "data": {
      "text/plain": [
       "0.8947530341952653"
      ]
     },
     "execution_count": 18,
     "metadata": {},
     "output_type": "execute_result"
    }
   ],
   "source": [
    "\n",
    "# Расчитываем долю пользователей с лайками \n",
    "(df['sum_likes'] > 0).mean()\n"
   ]
  },
  {
   "cell_type": "code",
   "execution_count": 19,
   "id": "3feeec45-5165-4b5c-96d0-790f902ea3c6",
   "metadata": {},
   "outputs": [
    {
     "data": {
      "text/html": [
       "<div>\n",
       "<style scoped>\n",
       "    .dataframe tbody tr th:only-of-type {\n",
       "        vertical-align: middle;\n",
       "    }\n",
       "\n",
       "    .dataframe tbody tr th {\n",
       "        vertical-align: top;\n",
       "    }\n",
       "\n",
       "    .dataframe thead th {\n",
       "        text-align: right;\n",
       "    }\n",
       "</style>\n",
       "<table border=\"1\" class=\"dataframe\">\n",
       "  <thead>\n",
       "    <tr style=\"text-align: right;\">\n",
       "      <th></th>\n",
       "      <th>share_like</th>\n",
       "      <th>mean_likes</th>\n",
       "    </tr>\n",
       "    <tr>\n",
       "      <th>exp_group</th>\n",
       "      <th></th>\n",
       "      <th></th>\n",
       "    </tr>\n",
       "  </thead>\n",
       "  <tbody>\n",
       "    <tr>\n",
       "      <th>control</th>\n",
       "      <td>0.891314</td>\n",
       "      <td>3.487079</td>\n",
       "    </tr>\n",
       "    <tr>\n",
       "      <th>test</th>\n",
       "      <td>0.898160</td>\n",
       "      <td>3.592578</td>\n",
       "    </tr>\n",
       "  </tbody>\n",
       "</table>\n",
       "</div>"
      ],
      "text/plain": [
       "           share_like  mean_likes\n",
       "exp_group                        \n",
       "control      0.891314    3.487079\n",
       "test         0.898160    3.592578"
      ]
     },
     "execution_count": 19,
     "metadata": {},
     "output_type": "execute_result"
    }
   ],
   "source": [
    "# Расчитываем долю пользователей с лайками и среднее число лайков в каждой группе\n",
    "df_like = df.groupby('exp_group').agg(share_like=('sum_likes', lambda x: (x > 0).mean()),\n",
    "                                      mean_likes=('sum_likes', 'mean'))\n",
    "df_like"
   ]
  },
  {
   "cell_type": "markdown",
   "id": "2ae703ef-6cdc-4df4-9e63-6cbfd5e6706e",
   "metadata": {},
   "source": [
    "Как видим в группе test кол-во и среднее лайков выросло."
   ]
  },
  {
   "cell_type": "markdown",
   "id": "424fee39-d880-432a-8e7f-246faad7f4b7",
   "metadata": {},
   "source": [
    "### Оценим, различаются ли число лайков между группами."
   ]
  },
  {
   "cell_type": "code",
   "execution_count": 20,
   "id": "80d81b75-c7dc-4a00-bf47-8924662c142f",
   "metadata": {},
   "outputs": [
    {
     "data": {
      "image/png": "[encoded data removed]",
      "text/plain": [
       "<Figure size 1200x600 with 2 Axes>"
      ]
     },
     "metadata": {},
     "output_type": "display_data"
    }
   ],
   "source": [
    "# Создаем сетку из двух графиков рядом\n",
    "fig, (ax1, ax2) = plt.subplots(1, 2, figsize=(12, 6))\n",
    "\n",
    "# График для группы 'control'\n",
    "control = sns.histplot(df[df['exp_group'] == 'control'].sum_likes, kde=True, ax=ax1)\n",
    "control.set(ylabel='Пользователи в группе control')\n",
    "ax1.set_title('Группа control')\n",
    "\n",
    "# График для группы 'test'\n",
    "test = sns.histplot(df[df['exp_group'] == 'test'].sum_likes, kde=True, ax=ax2)\n",
    "test.set(ylabel='Пользователи в группе test')\n",
    "ax2.set_title('Группа test')\n",
    "\n",
    "plt.tight_layout()\n",
    "plt.show()"
   ]
  },
  {
   "cell_type": "markdown",
   "id": "09126e72-b2e4-4f77-906b-75ff2e7fe9a1",
   "metadata": {},
   "source": [
    "Кол-во лайков имеет логнормальное распределение. Поэтому применим непараметрический критерии Манна-Уитни-Уилкоксона."
   ]
  },
  {
   "cell_type": "code",
   "execution_count": 21,
   "id": "20f02354-cc95-4e84-830b-1c03ff50f0e1",
   "metadata": {},
   "outputs": [
    {
     "name": "stdout",
     "output_type": "stream",
     "text": [
      "Статистика U: 518358073.0\n",
      "P-value: 2.9585062792441964e-05\n"
     ]
    }
   ],
   "source": [
    "# Фильтруем DataFrame по группе 'control'\n",
    "contr = df.loc[df.exp_group == 'control', 'sum_likes']\n",
    "\n",
    "# Фильтруем DataFrame по группе 'test'\n",
    "test = df.loc[df.exp_group == 'test', 'sum_likes']\n",
    "\n",
    "# Выполняем тест Манна-Уитни-Уилкоксона\n",
    "statistic, pvalue = mannwhitneyu(contr, test)\n",
    "\n",
    "print(f\"Статистика U: {statistic}\")\n",
    "print(f\"P-value: {pvalue}\")"
   ]
  },
  {
   "cell_type": "markdown",
   "id": "1ff3f7ed-e065-4c26-94b8-5873b86771de",
   "metadata": {},
   "source": [
    "Значение статистики U представляет собой сумму рангов, присвоенных выборкам во время теста. Чем больше значение U, тем больше различий между выборками.\n",
    "\n",
    "P-value (вероятность) равное 2.9585062792441964e-05 означает, что если нулевая гипотеза верна (отсутствие различий между группами), то вероятность получить такое или еще более экстремальное различие составляет 2.9585062792441964e-05, то есть очень маленькая.\n",
    "\n",
    "Исходя из этого, мы можем сделать вывод о статистической значимости различий между группами. В данном случае, маленькое значение p-value говорит о том, что у нас есть статистически значимые различия между группами 'control' и 'test' в отношении количества лайков.\n",
    "\n",
    "##### Таким образом, мы можем отвергнуть нулевую гипотезу о равенстве распределений, существует статистически значимое различие в количестве лайков между группами control и test."
   ]
  },
  {
   "cell_type": "markdown",
   "id": "9437af52-d4d6-4907-9c10-d19911cb6b71",
   "metadata": {},
   "source": [
    "### Подсчёт метрики Hitrate@5  \n",
    "#### доля рекомендаций, в которые пользователи кликнули"
   ]
  },
  {
   "cell_type": "code",
   "execution_count": 239,
   "id": "671b774b-3efd-4cbb-ad93-0400ba6c4cee",
   "metadata": {},
   "outputs": [],
   "source": [
    "merged_df = views.merge(likes, on='user_id', how='left')"
   ]
  },
  {
   "cell_type": "code",
   "execution_count": 240,
   "id": "336ddd7e-76ab-4af3-b6e7-ad416d51f44e",
   "metadata": {
    "tags": []
   },
   "outputs": [],
   "source": [
    "merged_df['recommendations'] = merged_df.recommendations.apply(\n",
    "    lambda x: list(map(int, filter(bool, x[1:-1].split(' '))))\n",
    ") # добавим разделить в столбец с recommendations"
   ]
  },
  {
   "cell_type": "code",
   "execution_count": 259,
   "id": "0092d54c-6432-4a27-890c-699540240c80",
   "metadata": {},
   "outputs": [
    {
     "data": {
      "text/html": [
       "<div>\n",
       "<style scoped>\n",
       "    .dataframe tbody tr th:only-of-type {\n",
       "        vertical-align: middle;\n",
       "    }\n",
       "\n",
       "    .dataframe tbody tr th {\n",
       "        vertical-align: top;\n",
       "    }\n",
       "\n",
       "    .dataframe thead th {\n",
       "        text-align: right;\n",
       "    }\n",
       "</style>\n",
       "<table border=\"1\" class=\"dataframe\">\n",
       "  <thead>\n",
       "    <tr style=\"text-align: right;\">\n",
       "      <th></th>\n",
       "      <th>user_id</th>\n",
       "      <th>exp_group</th>\n",
       "      <th>recommendations</th>\n",
       "      <th>timestamp_x</th>\n",
       "      <th>date_x</th>\n",
       "      <th>post_id</th>\n",
       "      <th>timestamp_y</th>\n",
       "      <th>date_y</th>\n",
       "    </tr>\n",
       "  </thead>\n",
       "  <tbody>\n",
       "    <tr>\n",
       "      <th>0</th>\n",
       "      <td>128381</td>\n",
       "      <td>control</td>\n",
       "      <td>[3644, 4529, 4704, 5294, 4808]</td>\n",
       "      <td>1654030803</td>\n",
       "      <td>2022-05-31 21:00:03</td>\n",
       "      <td>4704.0</td>\n",
       "      <td>1.654031e+09</td>\n",
       "      <td>2022-05-31 21:00:04</td>\n",
       "    </tr>\n",
       "    <tr>\n",
       "      <th>1</th>\n",
       "      <td>128381</td>\n",
       "      <td>control</td>\n",
       "      <td>[3644, 4529, 4704, 5294, 4808]</td>\n",
       "      <td>1654030803</td>\n",
       "      <td>2022-05-31 21:00:03</td>\n",
       "      <td>5294.0</td>\n",
       "      <td>1.654031e+09</td>\n",
       "      <td>2022-05-31 21:00:38</td>\n",
       "    </tr>\n",
       "  </tbody>\n",
       "</table>\n",
       "</div>"
      ],
      "text/plain": [
       "   user_id exp_group                 recommendations  timestamp_x  \\\n",
       "0   128381   control  [3644, 4529, 4704, 5294, 4808]   1654030803   \n",
       "1   128381   control  [3644, 4529, 4704, 5294, 4808]   1654030803   \n",
       "\n",
       "               date_x  post_id   timestamp_y              date_y  \n",
       "0 2022-05-31 21:00:03   4704.0  1.654031e+09 2022-05-31 21:00:04  \n",
       "1 2022-05-31 21:00:03   5294.0  1.654031e+09 2022-05-31 21:00:38  "
      ]
     },
     "execution_count": 259,
     "metadata": {},
     "output_type": "execute_result"
    }
   ],
   "source": [
    "merged_df.head(2)"
   ]
  },
  {
   "cell_type": "code",
   "execution_count": 253,
   "id": "17843ea7-3330-4053-b487-1c62f1552b0c",
   "metadata": {},
   "outputs": [
    {
     "data": {
      "text/plain": [
       "(1016889, 8)"
      ]
     },
     "execution_count": 253,
     "metadata": {},
     "output_type": "execute_result"
    }
   ],
   "source": [
    "merged_df.shape"
   ]
  },
  {
   "cell_type": "markdown",
   "id": "059780af-050e-4678-9991-7c81b0670ea0",
   "metadata": {},
   "source": [
    "##### Помечаем все ненужные нам посты. Это те, у которых нет id (стоит пропуск в post_id), которые лайкнули позже, чем через час, в которых просмотр оказался позже лайка, а также те, которые не рекомендовали"
   ]
  },
  {
   "cell_type": "code",
   "execution_count": 248,
   "id": "65a093cb-d019-4367-ba26-85ca52ab1f7f",
   "metadata": {
    "tags": []
   },
   "outputs": [],
   "source": [
    "\n",
    "\n",
    "def update_post_id(row):\n",
    "    # Преобразование значений временных меток в формат pd.Timestamp\n",
    "    timestamp_x = pd.Timestamp(row.timestamp_x)\n",
    "    timestamp_y = pd.Timestamp(row.timestamp_y)\n",
    "    \n",
    "    if (\n",
    "        row.post_id == -1  # Если post_id равно -1\n",
    "        or timestamp_x > timestamp_y  # Если timestamp_x больше timestamp_y\n",
    "        or timestamp_x + pd.Timedelta(hours=1) < timestamp_y  # Если между timestamp_x и timestamp_y прошло более 1 часа\n",
    "        or row.post_id not in row.recommendations  # Если post_id не находится в списке рекомендаций\n",
    "    ):\n",
    "        return -1  # Возвращаем -1\n",
    "    else:\n",
    "        return row.post_id  # Возвращаем исходное значение post_id\n",
    "\n",
    "# Применяем функцию update_post_id к каждой строке датафрейма\n",
    "merged_df['post_id'] = merged_df.apply(update_post_id, axis=1)\n"
   ]
  },
  {
   "cell_type": "markdown",
   "id": "f8769fc2-e540-4c2d-b912-50fbbe553c44",
   "metadata": {},
   "source": [
    "#### Для каждого юзера/поста/просмотра подбираем количество лайков, связанное именно с этой комбинацией. То есть лайкнул человек этот пост после показа или нет, 1 или 0, True или False. Вот это и будет наш hitrate'"
   ]
  },
  {
   "cell_type": "code",
   "execution_count": 258,
   "id": "ffde18e8-dbbd-497c-9802-f6a19a1e90c9",
   "metadata": {},
   "outputs": [
    {
     "name": "stdout",
     "output_type": "stream",
     "text": [
      "Итоговое значение метрики Hitrate@5:0.7137549930666225\n"
     ]
    }
   ],
   "source": [
    "# Функция для агрегации значений столбца 'post_id'\n",
    "def my_agg(values):\n",
    "    values = set(values)  # Преобразование значений во множество для уникальности\n",
    "    if -1 in values and len(values) >= 2:  # Если есть значение -1 и количество уникальных значений >= 2\n",
    "        return 1  \n",
    "    elif -1 not in values:  \n",
    "        return 1  \n",
    "    return 0  \n",
    "\n",
    "tmp_agg = merged_df.groupby(['user_id', 'exp_group', 'timestamp_x'])['post_id'].agg(my_agg)\n",
    "print(f\"Итоговое значение метрики Hitrate@5:{tmp_agg.reset_index().post_id.mean()}\")"
   ]
  },
  {
   "cell_type": "markdown",
   "id": "733da5c7-71d6-4a03-9212-30a974bc84b4",
   "metadata": {},
   "source": [
    "### Оценка различий между группами и применение бакетного подхода.\n",
    "##### Для оценки различий между группами в нашем случае, мы не можем использовать z-критерий для долей, так как каждый пользователь может встречаться несколько раз в выборке. Вместо этого мы будем применять бакетный подход, который позволит нам оценить значимость различий, используя групповой hitrate (или CTR) - долю успешных действий в каждом бакете.\n",
    "\n",
    "##### Для этого мы разделим данные на 100 бакетов и вычислим hitrate для каждого бакета. Затем мы сможем сравнить hitrate между группами и оценить статистическую значимость различий. Уровень значимости останется на прежнем уровне 0.05.\n",
    "\n",
    "##### Таким образом, мы сможем определить, есть ли статистически значимые различия в hitrate между группами, используя бакетный подход."
   ]
  },
  {
   "cell_type": "code",
   "execution_count": 260,
   "id": "dd8092a9-e45c-4140-985e-efa14b60b4ea",
   "metadata": {},
   "outputs": [],
   "source": [
    "tmp_agg = tmp_agg.reset_index().rename(columns={'post_id': 'hitrate'})"
   ]
  },
  {
   "cell_type": "code",
   "execution_count": 262,
   "id": "0a3bb6f1-b954-449a-968a-5f1229281967",
   "metadata": {},
   "outputs": [],
   "source": [
    "tmp_agg['bucket'] = tmp_agg['user_id'].apply(\n",
    "    lambda x: int(hashlib.md5((str(x) + \"your_salt_value\").encode()).hexdigest(), 16) % 100\n",
    ") # Присваиваем каждому пользователю случайный бакет, используя хэш-функцию MD5"
   ]
  },
  {
   "cell_type": "code",
   "execution_count": 263,
   "id": "6d45494e-e094-4a1b-a0b2-b22c4b0cae53",
   "metadata": {},
   "outputs": [
    {
     "data": {
      "text/html": [
       "<div>\n",
       "<style scoped>\n",
       "    .dataframe tbody tr th:only-of-type {\n",
       "        vertical-align: middle;\n",
       "    }\n",
       "\n",
       "    .dataframe tbody tr th {\n",
       "        vertical-align: top;\n",
       "    }\n",
       "\n",
       "    .dataframe thead th {\n",
       "        text-align: right;\n",
       "    }\n",
       "</style>\n",
       "<table border=\"1\" class=\"dataframe\">\n",
       "  <thead>\n",
       "    <tr style=\"text-align: right;\">\n",
       "      <th></th>\n",
       "      <th>exp_group</th>\n",
       "      <th>bucket</th>\n",
       "      <th>user_id</th>\n",
       "      <th>timestamp_x</th>\n",
       "      <th>hitrate</th>\n",
       "      <th>view</th>\n",
       "      <th>hitrate_bucket</th>\n",
       "    </tr>\n",
       "  </thead>\n",
       "  <tbody>\n",
       "    <tr>\n",
       "      <th>0</th>\n",
       "      <td>control</td>\n",
       "      <td>0</td>\n",
       "      <td>92017399</td>\n",
       "      <td>1851532396728</td>\n",
       "      <td>793</td>\n",
       "      <td>1119</td>\n",
       "      <td>0.708668</td>\n",
       "    </tr>\n",
       "    <tr>\n",
       "      <th>1</th>\n",
       "      <td>control</td>\n",
       "      <td>1</td>\n",
       "      <td>81640987</td>\n",
       "      <td>1542106366406</td>\n",
       "      <td>653</td>\n",
       "      <td>932</td>\n",
       "      <td>0.700644</td>\n",
       "    </tr>\n",
       "    <tr>\n",
       "      <th>2</th>\n",
       "      <td>control</td>\n",
       "      <td>2</td>\n",
       "      <td>83711146</td>\n",
       "      <td>1689393886206</td>\n",
       "      <td>726</td>\n",
       "      <td>1021</td>\n",
       "      <td>0.711068</td>\n",
       "    </tr>\n",
       "    <tr>\n",
       "      <th>3</th>\n",
       "      <td>control</td>\n",
       "      <td>3</td>\n",
       "      <td>83356449</td>\n",
       "      <td>1634773739233</td>\n",
       "      <td>681</td>\n",
       "      <td>988</td>\n",
       "      <td>0.689271</td>\n",
       "    </tr>\n",
       "    <tr>\n",
       "      <th>4</th>\n",
       "      <td>control</td>\n",
       "      <td>4</td>\n",
       "      <td>75892301</td>\n",
       "      <td>1512322707824</td>\n",
       "      <td>654</td>\n",
       "      <td>914</td>\n",
       "      <td>0.715536</td>\n",
       "    </tr>\n",
       "  </tbody>\n",
       "</table>\n",
       "</div>"
      ],
      "text/plain": [
       "  exp_group  bucket   user_id    timestamp_x  hitrate  view  hitrate_bucket\n",
       "0   control       0  92017399  1851532396728      793  1119        0.708668\n",
       "1   control       1  81640987  1542106366406      653   932        0.700644\n",
       "2   control       2  83711146  1689393886206      726  1021        0.711068\n",
       "3   control       3  83356449  1634773739233      681   988        0.689271\n",
       "4   control       4  75892301  1512322707824      654   914        0.715536"
      ]
     },
     "execution_count": 263,
     "metadata": {},
     "output_type": "execute_result"
    }
   ],
   "source": [
    "tmp_agg['view'] = 1\n",
    "\n",
    "#Группируем данные по 'exp_group' и 'bucket', суммируя значения 'hitrate' и 'view'\n",
    "new_df = tmp_agg.groupby(['exp_group', 'bucket']).sum(['hitrate', 'view']).reset_index()\n",
    "new_df['hitrate_bucket'] = new_df.hitrate / new_df.view \n",
    "\n",
    "new_df.head()"
   ]
  },
  {
   "cell_type": "code",
   "execution_count": 264,
   "id": "cdcd33ad-4bbb-4cdd-b8c9-225da4eb8dac",
   "metadata": {},
   "outputs": [
    {
     "data": {
      "text/plain": [
       "exp_group\n",
       "control    0.707108\n",
       "test       0.720366\n",
       "Name: hitrate, dtype: float64"
      ]
     },
     "execution_count": 264,
     "metadata": {},
     "output_type": "execute_result"
    }
   ],
   "source": [
    "tmp_agg.groupby('exp_group').hitrate.mean()"
   ]
  },
  {
   "cell_type": "code",
   "execution_count": 272,
   "id": "55686385-8046-4574-9d33-229860781805",
   "metadata": {},
   "outputs": [
    {
     "data": {
      "image/png": "[encoded data removed]",
      "text/plain": [
       "<Figure size 640x480 with 1 Axes>"
      ]
     },
     "metadata": {},
     "output_type": "display_data"
    }
   ],
   "source": [
    "p = sns.histplot(new_df['hitrate_bucket'], kde=True)\n",
    "p.set(ylabel = 'Кол-во hitrate_bucket ')\n",
    "plt.show()"
   ]
  },
  {
   "cell_type": "code",
   "execution_count": 275,
   "id": "718ed63b-e10e-4f53-bfdd-ad62ca1e1301",
   "metadata": {},
   "outputs": [
    {
     "data": {
      "image/png": "[encoded data removed]",
      "text/plain": [
       "<Figure size 640x480 with 1 Axes>"
      ]
     },
     "metadata": {},
     "output_type": "display_data"
    }
   ],
   "source": [
    "p = sns.histplot( new_df[new_df.exp_group == 'control'].hitrate_bucket, kde=True)\n",
    "p.set(ylabel = 'Кол-во hitrate_bucket_control ')\n",
    "plt.show()"
   ]
  },
  {
   "cell_type": "code",
   "execution_count": 276,
   "id": "24fc9ee1-ae85-4f78-bbec-e745cabb1713",
   "metadata": {},
   "outputs": [
    {
     "data": {
      "image/png": "[encoded data removed]",
      "text/plain": [
       "<Figure size 640x480 with 1 Axes>"
      ]
     },
     "metadata": {},
     "output_type": "display_data"
    }
   ],
   "source": [
    "p = sns.histplot(new_df[new_df.exp_group == 'test'].hitrate_bucket, kde=True)\n",
    "p.set(ylabel = 'Кол-во hitrate_bucket_test')\n",
    "plt.show()"
   ]
  },
  {
   "cell_type": "code",
   "execution_count": 265,
   "id": "2f1e1a55-afd4-4113-a6e2-998b101ff448",
   "metadata": {},
   "outputs": [
    {
     "data": {
      "text/plain": [
       "MannwhitneyuResult(statistic=2961.0, pvalue=6.330494742920094e-07)"
      ]
     },
     "execution_count": 265,
     "metadata": {},
     "output_type": "execute_result"
    }
   ],
   "source": [
    "mannwhitneyu(\n",
    "    new_df[new_df.exp_group == 'control'].hitrate_bucket,\n",
    "    new_df[new_df.exp_group == 'test'].hitrate_bucket,\n",
    ")"
   ]
  },
  {
   "cell_type": "code",
   "execution_count": 268,
   "id": "48fb1847-7fe6-4116-a4a0-1efcf2acf392",
   "metadata": {},
   "outputs": [
    {
     "data": {
      "text/plain": [
       "Ttest_indResult(statistic=-5.337012548982593, pvalue=2.573350247286912e-07)"
      ]
     },
     "execution_count": 268,
     "metadata": {},
     "output_type": "execute_result"
    }
   ],
   "source": [
    "ttest_ind(\n",
    "    new_df[new_df.exp_group == 'control'].hitrate_bucket,\n",
    "    new_df[new_df.exp_group == 'test'].hitrate_bucket,\n",
    ")"
   ]
  },
  {
   "cell_type": "markdown",
   "id": "06a51fe7-4f88-4254-baa8-04d834e5c7cc",
   "metadata": {},
   "source": [
    "### Выводы\n",
    "#### На основе анализа различий между группами 'control' и 'test' по показателю hitrate (доля успешных рекомендаций), мы пришли к следующим выводам:\n",
    "\n",
    "#### Метод бакетирования был применен для оценки группового hitrate (CTR) с использованием 100 бакетов.\n",
    "\n",
    "Далее, мы провели статистические тесты для проверки различий между группами 'control' и 'test':\n",
    "\n",
    ">*Тест Манна-Уитни (mannwhitneyu) показал статистически значимое отклонение между hitrate_bucket в группе 'control' и группе 'test' (statistic=2961.0, __pvalue=6.330494742920094e-07__).*\n",
    "\n",
    ">*Тест Стьюдента (ttest_ind) также показал статистически значимое отклонение между hitrate_bucket в группе 'control' и группе 'test' (statistic=-5.337012548982593, __pvalue=2.573350247286912e-07__).*\n",
    "\n",
    "#### Исходя из результатов тестов, мы можем сделать вывод, что рекомендательная система в группе 'test' показывает лучшие результаты по сравнению с группой 'control'. Таким образом, мы можем рекомендовать использование рекомендательной системы группы 'test' как более эффективной.\n"
   ]
  },
  {
   "cell_type": "code",
   "execution_count": null,
   "id": "a0b9bfcd-6a2c-4f7a-9bc0-3a6d215d552a",
   "metadata": {},
   "outputs": [],
   "source": []
  }
 ],
 "metadata": {
  "kernelspec": {
   "display_name": "Python 3",
   "language": "python",
   "name": "python3"
  },
  "language_info": {
   "codemirror_mode": {
    "name": "ipython",
    "version": 3
   },
   "file_extension": ".py",
   "mimetype": "text/x-python",
   "name": "python",
   "nbconvert_exporter": "python",
   "pygments_lexer": "ipython3",
   "version": "3.9.13"
  }
 },
 "nbformat": 4,
 "nbformat_minor": 5
}
